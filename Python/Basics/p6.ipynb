{
 "cells": [
  {
   "cell_type": "code",
   "execution_count": 1,
   "metadata": {},
   "outputs": [
    {
     "name": "stdout",
     "output_type": "stream",
     "text": [
      "Hello world\n"
     ]
    }
   ],
   "source": [
    "print('Hello world')"
   ]
  },
  {
   "cell_type": "code",
   "execution_count": 2,
   "metadata": {},
   "outputs": [
    {
     "name": "stdout",
     "output_type": "stream",
     "text": [
      "Python 3.12.4\n"
     ]
    }
   ],
   "source": [
    "!python --version"
   ]
  },
  {
   "cell_type": "markdown",
   "metadata": {},
   "source": [
    "<h1>Exception Handling</h1>"
   ]
  },
  {
   "cell_type": "code",
   "execution_count": 9,
   "metadata": {},
   "outputs": [
    {
     "name": "stdout",
     "output_type": "stream",
     "text": [
      "Rahul\n",
      "My name is Rahul and I am 20 years old !!\n",
      "important line 1\n",
      "important line 2\n",
      "important line 3\n",
      "important line 4\n",
      "important line 5\n",
      "important line 6\n"
     ]
    }
   ],
   "source": [
    "name = input(\"Enter your name: \") # rahul\n",
    "print(name)\n",
    "age = int(input('Enter your age: ')) # 20\n",
    "\n",
    "print(f\"My name is {name} and I am {age} years old !!\")\n",
    "print(\"important line 1\")\n",
    "print(\"important line 2\")\n",
    "print(\"important line 3\")\n",
    "print(\"important line 4\")\n",
    "print(\"important line 5\")\n",
    "print(\"important line 6\")"
   ]
  },
  {
   "cell_type": "code",
   "execution_count": 1,
   "metadata": {},
   "outputs": [
    {
     "name": "stdout",
     "output_type": "stream",
     "text": [
      "rahul\n",
      "My name is rahul and I am 20 years old !!\n",
      "ERROR IS NOT OCCURED!!\n",
      "I am always\n",
      "important line 1\n",
      "important line 2\n",
      "important line 3\n",
      "important line 4\n",
      "important line 5\n",
      "important line 6\n"
     ]
    }
   ],
   "source": [
    "try:\n",
    "    name = input(\"Enter your name: \") # rahul\n",
    "    print(name)\n",
    "    age = int(input('Enter your age: ')) # 20\n",
    "    print(f\"My name is {name} and I am {age} years old !!\")\n",
    "    \n",
    "except: #Yes\n",
    "    print(\"ERROR IS OCCURED!!\")\n",
    "    \n",
    "else: #No \n",
    "    print(\"ERROR IS NOT OCCURED!!\")\n",
    "\n",
    "finally: #always\n",
    "    print(\"I am always\")\n",
    "    \n",
    "print(\"important line 1\")\n",
    "print(\"important line 2\")\n",
    "print(\"important line 3\")\n",
    "print(\"important line 4\")\n",
    "print(\"important line 5\")\n",
    "print(\"important line 6\")"
   ]
  },
  {
   "cell_type": "code",
   "execution_count": 3,
   "metadata": {},
   "outputs": [
    {
     "data": {
      "text/plain": [
       "[1, 2, 3, 4, 5]"
      ]
     },
     "execution_count": 3,
     "metadata": {},
     "output_type": "execute_result"
    }
   ],
   "source": [
    "ls = [1,2,3,4,5]\n",
    "# ls[8]\n",
    "ls"
   ]
  },
  {
   "cell_type": "code",
   "execution_count": 1,
   "metadata": {},
   "outputs": [
    {
     "data": {
      "text/plain": [
       "2"
      ]
     },
     "execution_count": 1,
     "metadata": {},
     "output_type": "execute_result"
    }
   ],
   "source": [
    "dt = {'a': 0, 'b':1, 'c':2}\n",
    "dt['c']"
   ]
  },
  {
   "cell_type": "markdown",
   "metadata": {},
   "source": [
    "<h1>Object Oriented Programming</h1>"
   ]
  },
  {
   "cell_type": "code",
   "execution_count": 3,
   "metadata": {},
   "outputs": [],
   "source": [
    "class College:\n",
    "    college_name = \"IIT\"\n",
    "    college_city = \"Jaipur\""
   ]
  },
  {
   "cell_type": "code",
   "execution_count": 108,
   "metadata": {},
   "outputs": [
    {
     "ename": "TypeError",
     "evalue": "College.__init__() missing 3 required positional arguments: 'cse_hod', 'ece_hod', and 'e_hod'",
     "output_type": "error",
     "traceback": [
      "\u001b[1;31m---------------------------------------------------------------------------\u001b[0m",
      "\u001b[1;31mTypeError\u001b[0m                                 Traceback (most recent call last)",
      "Cell \u001b[1;32mIn[108], line 2\u001b[0m\n\u001b[0;32m      1\u001b[0m \u001b[38;5;66;03m# object or instance\u001b[39;00m\n\u001b[1;32m----> 2\u001b[0m obj1 \u001b[38;5;241m=\u001b[39m \u001b[43mCollege\u001b[49m\u001b[43m(\u001b[49m\u001b[43m)\u001b[49m\n\u001b[0;32m      3\u001b[0m obj2 \u001b[38;5;241m=\u001b[39m College()\n\u001b[0;32m      4\u001b[0m obj3 \u001b[38;5;241m=\u001b[39m College()\n",
      "\u001b[1;31mTypeError\u001b[0m: College.__init__() missing 3 required positional arguments: 'cse_hod', 'ece_hod', and 'e_hod'"
     ]
    }
   ],
   "source": [
    "# object or instance\n",
    "obj1 = College()\n",
    "obj2 = College()\n",
    "obj3 = College()\n",
    "\n",
    "print(f\"{obj1.college_name} {obj1.college_city}, Rajasthan\")\n",
    "# print(obj.college_city)"
   ]
  },
  {
   "cell_type": "code",
   "execution_count": 12,
   "metadata": {},
   "outputs": [
    {
     "name": "stdout",
     "output_type": "stream",
     "text": [
      "IIT Jaipur, Rajasthan\n"
     ]
    }
   ],
   "source": []
  },
  {
   "cell_type": "code",
   "execution_count": 106,
   "metadata": {},
   "outputs": [
    {
     "name": "stdout",
     "output_type": "stream",
     "text": [
      "MNIT Jaipur\n"
     ]
    }
   ],
   "source": [
    "obj2.college_name = \"MNIT\"\n",
    "print(obj2.college_name, obj2.college_city)"
   ]
  },
  {
   "cell_type": "code",
   "execution_count": 16,
   "metadata": {},
   "outputs": [
    {
     "name": "stdout",
     "output_type": "stream",
     "text": [
      "MNIT Jaipur\n"
     ]
    }
   ],
   "source": []
  },
  {
   "cell_type": "code",
   "execution_count": 8,
   "metadata": {},
   "outputs": [
    {
     "name": "stdout",
     "output_type": "stream",
     "text": [
      "Jaipur\n",
      "IIT\n"
     ]
    }
   ],
   "source": [
    "# class variables\n",
    "print(College.college_city)\n",
    "print(College.college_name)"
   ]
  },
  {
   "cell_type": "code",
   "execution_count": 109,
   "metadata": {},
   "outputs": [
    {
     "name": "stdout",
     "output_type": "stream",
     "text": [
      "Constructor called\n",
      "Constructor called\n"
     ]
    }
   ],
   "source": [
    "class College:\n",
    "    college_name = \"IIT\" # class variables can be accessed using class name or class objects\n",
    "    college_city = \"Jaipur\"\n",
    "    \n",
    "    # instance variable constructor\n",
    "    def __init__(self,cse_hod,ece_hod,e_hod):\n",
    "        # instance variables\n",
    "        self.college_cse_hod = cse_hod\n",
    "        self.college_ece_hod = ece_hod\n",
    "        self.college_electrical_hod = e_hod\n",
    "        self.student_marks = [25,35,45,41,42,47,49,38,39,29,46,47]\n",
    "        self.random_number = [23,34,12,54,64,76,34,54,72,73,82,99]\n",
    "        print(\"Constructor called\")\n",
    "\n",
    "    # self --> acts as a pointer, as it references address to the object\n",
    "    \n",
    "    def display(self):\n",
    "        print(\"My College name: \", self.college_name)\n",
    "        print(\"MY CSE HOD: \", self.college_cse_hod)\n",
    "        print(\"My College city: \", self.college_city)\n",
    "        \n",
    "    def average_marks(self):\n",
    "        marks = self.student_marks\n",
    "        # print(marks)\n",
    "        total_sum = 0\n",
    "        count = 0\n",
    "        for item in marks:\n",
    "            total_sum += item\n",
    "            count += 1\n",
    "            \n",
    "        print(total_sum/count)\n",
    "        \n",
    "# College.college_cse_hod\n",
    "obj1 = College(cse_hod=\"Manoj Sharma\",ece_hod=\"Uday Pratap\",e_hod=\"Rahul Trivedi\")\n",
    "obj2 = College(cse_hod=\"Harish Sharma\",ece_hod=\"Abhishek Pratap\",e_hod=\"Hari Om Trivedi\")"
   ]
  },
  {
   "cell_type": "code",
   "execution_count": 121,
   "metadata": {},
   "outputs": [
    {
     "name": "stdout",
     "output_type": "stream",
     "text": [
      "40.25\n"
     ]
    },
    {
     "data": {
      "text/plain": [
       "[25, 35, 45, 41, 42, 47, 49, 38, 39, 29, 46, 47]"
      ]
     },
     "execution_count": 121,
     "metadata": {},
     "output_type": "execute_result"
    }
   ],
   "source": [
    "obj1.average_marks()\n",
    "obj1.student_marks"
   ]
  },
  {
   "cell_type": "code",
   "execution_count": 120,
   "metadata": {},
   "outputs": [
    {
     "name": "stdout",
     "output_type": "stream",
     "text": [
      "My College name:  IIT\n",
      "MY CSE HOD:  Manoj Sharma\n",
      "My College city:  Jaipur\n",
      "My College name:  IIT\n",
      "MY CSE HOD:  Harish Sharma\n",
      "My College city:  Jaipur\n"
     ]
    }
   ],
   "source": [
    "obj1.display()\n",
    "obj2.display()"
   ]
  },
  {
   "cell_type": "code",
   "execution_count": 101,
   "metadata": {},
   "outputs": [],
   "source": [
    "class Hello:\n",
    "    def __init__(self):\n",
    "        self.random_number = [23,34,12,54,64,76,34,54,72,73,82,99,2,56,3,1,8,67,98,94,20,50]\n",
    "        \n",
    "    # method even no and odd no count\n",
    "    def even_odd_counter(self):\n",
    "        rn = self.random_number\n",
    "        e_count = 0\n",
    "        o_count = 0\n",
    "        for item in rn:\n",
    "            if item % 2 == 0 :\n",
    "                e_count += 1\n",
    "            else :\n",
    "                o_count += 1\n",
    "        \n",
    "        print(f\"Even no: {e_count}\")\n",
    "        print(f\"Odd no: {o_count}\")\n",
    "        \n",
    "    def even_average_finder(self):\n",
    "        rn = self.random_number\n",
    "        even = 0\n",
    "        count = 0\n",
    "        for item in rn:\n",
    "            if item % 2 == 0:\n",
    "                even += item\n",
    "                count += 1\n",
    "            \n",
    "        print(even/count)\n",
    "        \n",
    "    def target_finder(self,item):\n",
    "        rn = self.random_number\n",
    "        # self.t = item\n",
    "        t = int(input(\"Enter the target: \"))\n",
    "        \n",
    "        for i in range(len(rn)):\n",
    "            if t == rn[i]:\n",
    "                print(f\"Target {t} found at {i}\")\n",
    "        \n",
    "        if t != rn[i]:\n",
    "            print(f\"Target {t} not found or may not be in the list!!\")\n",
    "        "
   ]
  },
  {
   "cell_type": "code",
   "execution_count": 102,
   "metadata": {},
   "outputs": [],
   "source": [
    "obj4 = Hello()"
   ]
  },
  {
   "cell_type": "code",
   "execution_count": 76,
   "metadata": {},
   "outputs": [
    {
     "name": "stdout",
     "output_type": "stream",
     "text": [
      "Even no: 9\n",
      "Odd no: 3\n"
     ]
    }
   ],
   "source": [
    "obj4.even_odd_counter()"
   ]
  },
  {
   "cell_type": "code",
   "execution_count": 84,
   "metadata": {},
   "outputs": [
    {
     "name": "stdout",
     "output_type": "stream",
     "text": [
      "53.55555555555556\n"
     ]
    }
   ],
   "source": [
    "obj4.even_average_finder()"
   ]
  },
  {
   "cell_type": "code",
   "execution_count": 104,
   "metadata": {},
   "outputs": [
    {
     "name": "stdout",
     "output_type": "stream",
     "text": [
      "Target 99 found at 11\n",
      "Target 99 not found or may not be in the list!!\n"
     ]
    }
   ],
   "source": [
    "obj4.target_finder(99)"
   ]
  }
 ],
 "metadata": {
  "kernelspec": {
   "display_name": "Python 3",
   "language": "python",
   "name": "python3"
  },
  "language_info": {
   "codemirror_mode": {
    "name": "ipython",
    "version": 3
   },
   "file_extension": ".py",
   "mimetype": "text/x-python",
   "name": "python",
   "nbconvert_exporter": "python",
   "pygments_lexer": "ipython3",
   "version": "3.12.4"
  }
 },
 "nbformat": 4,
 "nbformat_minor": 2
}
