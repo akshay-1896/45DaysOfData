{
 "cells": [
  {
   "cell_type": "code",
   "execution_count": null,
   "metadata": {},
   "outputs": [],
   "source": [
    "# 1 text-to-speech\n",
    "\n",
    "import pyttsx3\n",
    "engine = pyttsx3.init()\n",
    "engine.setProperty('rate', 350)\n",
    "text = input(\"Enter the text : \")\n",
    "engine.say(text)\n",
    "engine.runAndWait()"
   ]
  },
  {
   "cell_type": "code",
   "execution_count": null,
   "metadata": {},
   "outputs": [],
   "source": [
    "# 2  Python program to check whether a file exists.\n",
    "\n",
    "import os\n",
    "\n",
    "def check_file_exists(file_path):\n",
    "    if os.path.exists(file_path):\n",
    "        print(f\"The file '{file_path}' exists.\")\n",
    "    else:\n",
    "        print(f\"The file '{file_path}' does not exist.\")\n",
    "\n",
    "file_path = 'q1.ipynb'\n",
    "check_file_exists(file_path)\n"
   ]
  },
  {
   "cell_type": "code",
   "execution_count": null,
   "metadata": {},
   "outputs": [],
   "source": [
    "# 3 Python program to determine if a Python shell is executing in 32bit or 64bit mode on OS. Also to get OS name, platform and release information and python site packages\n",
    "\n",
    "import os\n",
    "import platform\n",
    "import struct\n",
    "import site\n",
    "\n",
    "architecture = platform.architecture()[0]\n",
    "print(architecture)\n",
    "print(struct.calcsize(\"P\") * 8)\n",
    "\n",
    "print(f\"\\nName of the operating system: {os.name}\")\n",
    "print(f\"\\nName of OS System: {platform.system()}\")\n",
    "print(f\"\\nVersion of the operating system: {platform.release()} \\n\")\n",
    "\n",
    "print(site.getsitepackages())"
   ]
  },
  {
   "cell_type": "code",
   "execution_count": null,
   "metadata": {},
   "outputs": [],
   "source": [
    "# 4 \n",
    "\n"
   ]
  },
  {
   "cell_type": "code",
   "execution_count": null,
   "metadata": {},
   "outputs": [],
   "source": []
  },
  {
   "cell_type": "code",
   "execution_count": null,
   "metadata": {},
   "outputs": [],
   "source": []
  },
  {
   "cell_type": "code",
   "execution_count": null,
   "metadata": {},
   "outputs": [],
   "source": []
  },
  {
   "cell_type": "code",
   "execution_count": null,
   "metadata": {},
   "outputs": [],
   "source": []
  },
  {
   "cell_type": "code",
   "execution_count": null,
   "metadata": {},
   "outputs": [],
   "source": []
  },
  {
   "cell_type": "code",
   "execution_count": null,
   "metadata": {},
   "outputs": [],
   "source": []
  }
 ],
 "metadata": {
  "kernelspec": {
   "display_name": "Python 3",
   "language": "python",
   "name": "python3"
  },
  "language_info": {
   "codemirror_mode": {
    "name": "ipython",
    "version": 3
   },
   "file_extension": ".py",
   "mimetype": "text/x-python",
   "name": "python",
   "nbconvert_exporter": "python",
   "pygments_lexer": "ipython3",
   "version": "3.12.4"
  }
 },
 "nbformat": 4,
 "nbformat_minor": 2
}
