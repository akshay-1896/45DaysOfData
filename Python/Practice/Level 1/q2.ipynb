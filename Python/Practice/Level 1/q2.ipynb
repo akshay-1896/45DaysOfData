{
 "cells": [
  {
   "cell_type": "code",
   "execution_count": null,
   "metadata": {},
   "outputs": [],
   "source": [
    "# 1 text-to-speech\n",
    "\n",
    "import pyttsx3\n",
    "engine = pyttsx3.init()\n",
    "engine.setProperty('rate', 350)\n",
    "text = input(\"Enter the text : \")\n",
    "engine.say(text)\n",
    "engine.runAndWait()"
   ]
  },
  {
   "cell_type": "code",
   "execution_count": null,
   "metadata": {},
   "outputs": [],
   "source": [
    "# 2  Python program to check whether a file exists.\n",
    "\n",
    "import os\n",
    "\n",
    "def check_file_exists(file_path):\n",
    "    if os.path.exists(file_path):\n",
    "        print(f\"The file '{file_path}' exists.\")\n",
    "    else:\n",
    "        print(f\"The file '{file_path}' does not exist.\")\n",
    "\n",
    "file_path = 'q1.ipynb'\n",
    "check_file_exists(file_path)\n"
   ]
  },
  {
   "cell_type": "code",
   "execution_count": null,
   "metadata": {},
   "outputs": [],
   "source": [
    "# 3 Python program to determine if a Python shell is executing in 32bit or 64bit mode on OS. Also to get OS name, platform and release information and python site packages\n",
    "\n",
    "import os\n",
    "import platform\n",
    "import struct\n",
    "import site\n",
    "\n",
    "architecture = platform.architecture()[0]\n",
    "print(architecture)\n",
    "print(struct.calcsize(\"P\") * 8)\n",
    "\n",
    "print(f\"\\nName of the operating system: {os.name}\")\n",
    "print(f\"\\nName of OS System: {platform.system()}\")\n",
    "print(f\"\\nVersion of the operating system: {platform.release()} \\n\")\n",
    "\n",
    "print(site.getsitepackages())"
   ]
  },
  {
   "cell_type": "code",
   "execution_count": 1,
   "metadata": {},
   "outputs": [
    {
     "name": "stdout",
     "output_type": "stream",
     "text": [
      "Following is the list of python packages: \n",
      "c:\\Users\\bhart\\AppData\\Local\\Programs\\Python\\Python312\n",
      "c:\\Users\\bhart\\AppData\\Local\\Programs\\Python\\Python312\\Lib\\site-packages\n"
     ]
    }
   ],
   "source": [
    "# 4 Write a Python program to locate Python site packages.\n",
    "\n",
    "import site\n",
    "\n",
    "site_packages = site.getsitepackages()\n",
    "\n",
    "print(\"Following is the list of python packages: \")\n",
    "for directory in site_packages:\n",
    "    print(directory)\n"
   ]
  },
  {
   "cell_type": "code",
   "execution_count": 6,
   "metadata": {},
   "outputs": [
    {
     "name": "stdout",
     "output_type": "stream",
     "text": [
      "Command Ouput: \n",
      " Volume in drive C has no label.\n",
      " Volume Serial Number is 76EB-E140\n",
      "\n"
     ]
    },
    {
     "name": "stdout",
     "output_type": "stream",
     "text": [
      " Directory of c:\\Users\\bhart\\OneDrive\\Desktop\\Data Science\\45DaysOfData\\Python\\Practice\\Level 1\n",
      "\n",
      "06-09-2024  08.09 PM    <DIR>          .\n",
      "06-09-2024  08.09 PM    <DIR>          ..\n",
      "06-09-2024  08.09 PM             5,279 q1.ipynb\n",
      "07-09-2024  05.06 PM             5,210 q2.ipynb\n",
      "               2 File(s)         10,489 bytes\n",
      "               2 Dir(s)  337,363,529,728 bytes free\n"
     ]
    }
   ],
   "source": [
    "# 5 Write a Python program that calls an external command with different text color and style\n",
    "\n",
    "import subprocess\n",
    "from colorama import Fore,Style,init\n",
    "\n",
    "init()\n",
    "\n",
    "command = [\"cmd\",\"/c\",\"dir\"]\n",
    "\n",
    "try:\n",
    "    result = subprocess.run(command, capture_output=True, text = True, check= True)\n",
    "    output = result.stdout.splitlines()\n",
    "    print(\"Command Ouput: \")\n",
    "    for line in output:\n",
    "        if \"Directory of\" in line:\n",
    "            print(Fore.LIGHTGREEN_EX + line + Style.RESET_ALL)\n",
    "        elif \"<DIR>\" in line:\n",
    "            print(Fore.LIGHTCYAN_EX + line + Style.RESET_ALL)\n",
    "        else:\n",
    "            print(Fore.WHITE + line + Style.RESET_ALL)\n",
    "        \n",
    "except subprocess.CalledProcessError as e:\n",
    "    print(f\"Error while running the command: {e}\")"
   ]
  },
  {
   "cell_type": "code",
   "execution_count": null,
   "metadata": {},
   "outputs": [],
   "source": []
  },
  {
   "cell_type": "code",
   "execution_count": null,
   "metadata": {},
   "outputs": [],
   "source": []
  },
  {
   "cell_type": "code",
   "execution_count": null,
   "metadata": {},
   "outputs": [],
   "source": []
  },
  {
   "cell_type": "code",
   "execution_count": null,
   "metadata": {},
   "outputs": [],
   "source": []
  },
  {
   "cell_type": "code",
   "execution_count": null,
   "metadata": {},
   "outputs": [],
   "source": []
  }
 ],
 "metadata": {
  "kernelspec": {
   "display_name": "Python 3",
   "language": "python",
   "name": "python3"
  },
  "language_info": {
   "codemirror_mode": {
    "name": "ipython",
    "version": 3
   },
   "file_extension": ".py",
   "mimetype": "text/x-python",
   "name": "python",
   "nbconvert_exporter": "python",
   "pygments_lexer": "ipython3",
   "version": "3.12.4"
  }
 },
 "nbformat": 4,
 "nbformat_minor": 2
}
