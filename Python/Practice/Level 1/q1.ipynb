{
 "cells": [
  {
   "cell_type": "code",
   "execution_count": null,
   "metadata": {},
   "outputs": [],
   "source": [
    "# 1. Write a Python program to print the following string in a specific format\n",
    "\n",
    "print(\"\"\"Twinkle, twinkle, little star, \\n\\tHow I wonder what you are! \\n\\t\\tUp above the world so high, \\n\\t\\tLike a diamond in the sky. \\nTwinkle, twinkle, little star, \\n\\tHow I wonder what you are\n",
    "      \"\"\")\n"
   ]
  },
  {
   "cell_type": "code",
   "execution_count": null,
   "metadata": {},
   "outputs": [],
   "source": [
    "# 2. Write a Python program to find out what version of Python you are using.\n",
    "\n",
    "import sys\n",
    "print(\"Python version\")\n",
    "print(sys.version)\n",
    "print(\"\\nVersion info.\")\n",
    "print(sys.version_info)\n"
   ]
  },
  {
   "cell_type": "code",
   "execution_count": null,
   "metadata": {},
   "outputs": [],
   "source": [
    "# 3. Write a Python program to display the current date and time.\n",
    "\n",
    "import datetime\n",
    "now = datetime.datetime.now()\n",
    "print(\"Current date and time: \")\n",
    "print(now.strftime(\"%d/%m/%Y ; %H:%M:%S\"))"
   ]
  },
  {
   "cell_type": "code",
   "execution_count": null,
   "metadata": {},
   "outputs": [],
   "source": [
    "# 4. Write a Python program that calculates the area of a circle based on the radius entered by the user.\n",
    "\n",
    "import math\n",
    "r = float(input(\"Enter the radius: \"))\n",
    "area = math.pi * r ** 2 # math.pi returns float value of 22/7\n",
    "print(f\"Area of circle with radius {r} is {area}\")"
   ]
  },
  {
   "cell_type": "code",
   "execution_count": null,
   "metadata": {},
   "outputs": [],
   "source": [
    "# 5. Write a Python program that accepts the user's first and last name and prints them in reverse order with a space between them.\n",
    "\n",
    "f = list(input(\"Enter your first name: \"))\n",
    "l = list(input(\"Enter your last name: \"))\n",
    "f1 = \"\".join(f\"{item}\" for item in f)\n",
    "l1 = \"\".join(f\"{item}\" for item in l)\n",
    "f.reverse()\n",
    "l.reverse()\n",
    "f2 = \"\".join(f\"{item}\" for item in f)\n",
    "l2 = \"\".join(f\"{item}\" for item in l)\n",
    "print(f\"Reverse of {f1} {l1} is {l2} {f2}\")"
   ]
  },
  {
   "cell_type": "code",
   "execution_count": null,
   "metadata": {},
   "outputs": [],
   "source": [
    "# 6. Write a Python program that accepts a sequence of comma-separated numbers from the user and generates a list and a tuple of those numbers.\n",
    "\n",
    "input_list = input(\"Enter multiple values separated with commas: \").split(',')\n",
    "print(input_list)\n",
    "print(type(input_list))\n",
    "input_tuple = tuple(input_list)\n",
    "print(input_tuple)\n",
    "print(type(input_tuple))"
   ]
  },
  {
   "cell_type": "code",
   "execution_count": null,
   "metadata": {},
   "outputs": [],
   "source": [
    "# 7. Write a Python program that accepts a filename from the user and prints the extension of the file.\n",
    "\n",
    "f = input(\"Enter the filename: \")\n",
    "f_ext = f.split('.')\n",
    "print(f_ext)\n",
    "print(f\"The extension of the file {f} is {repr(f_ext[-1])}\")"
   ]
  },
  {
   "cell_type": "code",
   "execution_count": null,
   "metadata": {},
   "outputs": [],
   "source": [
    "# 8. Write a Python program that accepts an integer (n) and computes the value of n+nn+nnn.\n",
    "\n",
    "i = int(input(\"Enter the integer: \"))\n",
    "value = i + ((i*10) + i) + ((i*100) + (i*10) + i)\n",
    "print(value)"
   ]
  },
  {
   "cell_type": "code",
   "execution_count": null,
   "metadata": {},
   "outputs": [],
   "source": [
    "# 9. Write a Python program that prints the calendar for a given month and year.\n",
    "\n",
    "import calendar\n",
    "tc = calendar.TextCalendar()\n",
    "print(tc.formatmonth(2024, 7))\n",
    "y = int(input(\"Enter the year: \"))\n",
    "m = int(input(\"Enter the month: \"))\n",
    "print(calendar.month(y,m))\n"
   ]
  },
  {
   "cell_type": "code",
   "execution_count": null,
   "metadata": {},
   "outputs": [],
   "source": [
    "# 10. Write a Python program to calculate the number of days between two dates.\n",
    "\n",
    "from datetime import date\n",
    "f_date = date(2024, 5, 20)\n",
    "l_date = date(2024, 7, 24)\n",
    "\n",
    "delta = l_date - f_date\n",
    "print(delta.days)"
   ]
  },
  {
   "cell_type": "markdown",
   "metadata": {},
   "source": [
    "Completed"
   ]
  },
  {
   "cell_type": "code",
   "execution_count": null,
   "metadata": {},
   "outputs": [],
   "source": []
  }
 ],
 "metadata": {
  "kernelspec": {
   "display_name": "Python 3",
   "language": "python",
   "name": "python3"
  },
  "language_info": {
   "codemirror_mode": {
    "name": "ipython",
    "version": 3
   },
   "file_extension": ".py",
   "mimetype": "text/x-python",
   "name": "python",
   "nbconvert_exporter": "python",
   "pygments_lexer": "ipython3",
   "version": "3.12.4"
  }
 },
 "nbformat": 4,
 "nbformat_minor": 2
}
